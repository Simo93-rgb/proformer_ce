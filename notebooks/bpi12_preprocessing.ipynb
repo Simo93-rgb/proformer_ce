{
 "cells": [
  {
   "cell_type": "code",
   "execution_count": 1,
   "metadata": {},
   "outputs": [
    {
     "name": "stderr",
     "output_type": "stream",
     "text": [
      "/home/cc/proformer_ce/.venv/lib/python3.10/site-packages/pm4py/util/dt_parsing/parser.py:77: UserWarning: ISO8601 strings are not fully supported with strpfromiso for Python versions below 3.11\n",
      "  warnings.warn(\n",
      "/home/cc/proformer_ce/.venv/lib/python3.10/site-packages/tqdm/auto.py:21: TqdmWarning: IProgress not found. Please update jupyter and ipywidgets. See https://ipywidgets.readthedocs.io/en/stable/user_install.html\n",
      "  from .autonotebook import tqdm as notebook_tqdm\n",
      "parsing log, completed traces :: 100%|██████████| 13087/13087 [00:07<00:00, 1646.89it/s]\n"
     ]
    },
    {
     "data": {
      "text/html": [
       "<div>\n",
       "<style scoped>\n",
       "    .dataframe tbody tr th:only-of-type {\n",
       "        vertical-align: middle;\n",
       "    }\n",
       "\n",
       "    .dataframe tbody tr th {\n",
       "        vertical-align: top;\n",
       "    }\n",
       "\n",
       "    .dataframe thead th {\n",
       "        text-align: right;\n",
       "    }\n",
       "</style>\n",
       "<table border=\"1\" class=\"dataframe\">\n",
       "  <thead>\n",
       "    <tr style=\"text-align: right;\">\n",
       "      <th></th>\n",
       "      <th>org:resource</th>\n",
       "      <th>lifecycle:transition</th>\n",
       "      <th>concept:name</th>\n",
       "      <th>time:timestamp</th>\n",
       "      <th>case:REG_DATE</th>\n",
       "      <th>case:concept:name</th>\n",
       "      <th>case:AMOUNT_REQ</th>\n",
       "    </tr>\n",
       "  </thead>\n",
       "  <tbody>\n",
       "    <tr>\n",
       "      <th>0</th>\n",
       "      <td>112</td>\n",
       "      <td>COMPLETE</td>\n",
       "      <td>A_SUBMITTED</td>\n",
       "      <td>2011-10-01 00:38:44.546000+00:00</td>\n",
       "      <td>2011-10-01 00:38:44.546000+00:00</td>\n",
       "      <td>173688</td>\n",
       "      <td>20000</td>\n",
       "    </tr>\n",
       "    <tr>\n",
       "      <th>1</th>\n",
       "      <td>112</td>\n",
       "      <td>COMPLETE</td>\n",
       "      <td>A_PARTLYSUBMITTED</td>\n",
       "      <td>2011-10-01 00:38:44.880000+00:00</td>\n",
       "      <td>2011-10-01 00:38:44.546000+00:00</td>\n",
       "      <td>173688</td>\n",
       "      <td>20000</td>\n",
       "    </tr>\n",
       "    <tr>\n",
       "      <th>2</th>\n",
       "      <td>112</td>\n",
       "      <td>COMPLETE</td>\n",
       "      <td>A_PREACCEPTED</td>\n",
       "      <td>2011-10-01 00:39:37.906000+00:00</td>\n",
       "      <td>2011-10-01 00:38:44.546000+00:00</td>\n",
       "      <td>173688</td>\n",
       "      <td>20000</td>\n",
       "    </tr>\n",
       "    <tr>\n",
       "      <th>3</th>\n",
       "      <td>112</td>\n",
       "      <td>SCHEDULE</td>\n",
       "      <td>W_Completeren aanvraag</td>\n",
       "      <td>2011-10-01 00:39:38.875000+00:00</td>\n",
       "      <td>2011-10-01 00:38:44.546000+00:00</td>\n",
       "      <td>173688</td>\n",
       "      <td>20000</td>\n",
       "    </tr>\n",
       "    <tr>\n",
       "      <th>4</th>\n",
       "      <td>NaN</td>\n",
       "      <td>START</td>\n",
       "      <td>W_Completeren aanvraag</td>\n",
       "      <td>2011-10-01 11:36:46.437000+00:00</td>\n",
       "      <td>2011-10-01 00:38:44.546000+00:00</td>\n",
       "      <td>173688</td>\n",
       "      <td>20000</td>\n",
       "    </tr>\n",
       "    <tr>\n",
       "      <th>...</th>\n",
       "      <td>...</td>\n",
       "      <td>...</td>\n",
       "      <td>...</td>\n",
       "      <td>...</td>\n",
       "      <td>...</td>\n",
       "      <td>...</td>\n",
       "      <td>...</td>\n",
       "    </tr>\n",
       "    <tr>\n",
       "      <th>262195</th>\n",
       "      <td>112</td>\n",
       "      <td>COMPLETE</td>\n",
       "      <td>A_PARTLYSUBMITTED</td>\n",
       "      <td>2012-02-29 23:51:17.423000+00:00</td>\n",
       "      <td>2012-02-29 23:51:16.799000+00:00</td>\n",
       "      <td>214376</td>\n",
       "      <td>15000</td>\n",
       "    </tr>\n",
       "    <tr>\n",
       "      <th>262196</th>\n",
       "      <td>112</td>\n",
       "      <td>SCHEDULE</td>\n",
       "      <td>W_Afhandelen leads</td>\n",
       "      <td>2012-02-29 23:52:01.287000+00:00</td>\n",
       "      <td>2012-02-29 23:51:16.799000+00:00</td>\n",
       "      <td>214376</td>\n",
       "      <td>15000</td>\n",
       "    </tr>\n",
       "    <tr>\n",
       "      <th>262197</th>\n",
       "      <td>11169</td>\n",
       "      <td>START</td>\n",
       "      <td>W_Afhandelen leads</td>\n",
       "      <td>2012-03-01 09:26:46.736000+00:00</td>\n",
       "      <td>2012-02-29 23:51:16.799000+00:00</td>\n",
       "      <td>214376</td>\n",
       "      <td>15000</td>\n",
       "    </tr>\n",
       "    <tr>\n",
       "      <th>262198</th>\n",
       "      <td>11169</td>\n",
       "      <td>COMPLETE</td>\n",
       "      <td>A_DECLINED</td>\n",
       "      <td>2012-03-01 09:27:37.118000+00:00</td>\n",
       "      <td>2012-02-29 23:51:16.799000+00:00</td>\n",
       "      <td>214376</td>\n",
       "      <td>15000</td>\n",
       "    </tr>\n",
       "    <tr>\n",
       "      <th>262199</th>\n",
       "      <td>11169</td>\n",
       "      <td>COMPLETE</td>\n",
       "      <td>W_Afhandelen leads</td>\n",
       "      <td>2012-03-01 09:27:41.325000+00:00</td>\n",
       "      <td>2012-02-29 23:51:16.799000+00:00</td>\n",
       "      <td>214376</td>\n",
       "      <td>15000</td>\n",
       "    </tr>\n",
       "  </tbody>\n",
       "</table>\n",
       "<p>262200 rows × 7 columns</p>\n",
       "</div>"
      ],
      "text/plain": [
       "       org:resource lifecycle:transition            concept:name  \\\n",
       "0               112             COMPLETE             A_SUBMITTED   \n",
       "1               112             COMPLETE       A_PARTLYSUBMITTED   \n",
       "2               112             COMPLETE           A_PREACCEPTED   \n",
       "3               112             SCHEDULE  W_Completeren aanvraag   \n",
       "4               NaN                START  W_Completeren aanvraag   \n",
       "...             ...                  ...                     ...   \n",
       "262195          112             COMPLETE       A_PARTLYSUBMITTED   \n",
       "262196          112             SCHEDULE      W_Afhandelen leads   \n",
       "262197        11169                START      W_Afhandelen leads   \n",
       "262198        11169             COMPLETE              A_DECLINED   \n",
       "262199        11169             COMPLETE      W_Afhandelen leads   \n",
       "\n",
       "                         time:timestamp                    case:REG_DATE  \\\n",
       "0      2011-10-01 00:38:44.546000+00:00 2011-10-01 00:38:44.546000+00:00   \n",
       "1      2011-10-01 00:38:44.880000+00:00 2011-10-01 00:38:44.546000+00:00   \n",
       "2      2011-10-01 00:39:37.906000+00:00 2011-10-01 00:38:44.546000+00:00   \n",
       "3      2011-10-01 00:39:38.875000+00:00 2011-10-01 00:38:44.546000+00:00   \n",
       "4      2011-10-01 11:36:46.437000+00:00 2011-10-01 00:38:44.546000+00:00   \n",
       "...                                 ...                              ...   \n",
       "262195 2012-02-29 23:51:17.423000+00:00 2012-02-29 23:51:16.799000+00:00   \n",
       "262196 2012-02-29 23:52:01.287000+00:00 2012-02-29 23:51:16.799000+00:00   \n",
       "262197 2012-03-01 09:26:46.736000+00:00 2012-02-29 23:51:16.799000+00:00   \n",
       "262198 2012-03-01 09:27:37.118000+00:00 2012-02-29 23:51:16.799000+00:00   \n",
       "262199 2012-03-01 09:27:41.325000+00:00 2012-02-29 23:51:16.799000+00:00   \n",
       "\n",
       "       case:concept:name case:AMOUNT_REQ  \n",
       "0                 173688           20000  \n",
       "1                 173688           20000  \n",
       "2                 173688           20000  \n",
       "3                 173688           20000  \n",
       "4                 173688           20000  \n",
       "...                  ...             ...  \n",
       "262195            214376           15000  \n",
       "262196            214376           15000  \n",
       "262197            214376           15000  \n",
       "262198            214376           15000  \n",
       "262199            214376           15000  \n",
       "\n",
       "[262200 rows x 7 columns]"
      ]
     },
     "execution_count": 1,
     "metadata": {},
     "output_type": "execute_result"
    }
   ],
   "source": [
    "import pm4py\n",
    "\n",
    "log = pm4py.read_xes('../data/BPI_Challenge_2012.xes')\n",
    "log"
   ]
  },
  {
   "cell_type": "code",
   "execution_count": 2,
   "metadata": {},
   "outputs": [],
   "source": [
    "df = pm4py.convert_to_dataframe(log)\n",
    "df = df.sort_values('time:timestamp')"
   ]
  },
  {
   "cell_type": "code",
   "execution_count": 4,
   "metadata": {},
   "outputs": [],
   "source": [
    "cols = {\"case:concept:name\": \"case_id\", \"concept:name\": \"activity\", \"time:timestamp\": \"timestamp\"}\n",
    "df = df.rename(columns=cols)\n",
    "df = df[cols.values()]"
   ]
  },
  {
   "cell_type": "code",
   "execution_count": 5,
   "metadata": {},
   "outputs": [],
   "source": [
    "df.to_csv('../data/BPI_Challenge_2012.csv', index=False)"
   ]
  },
  {
   "cell_type": "code",
   "execution_count": 6,
   "metadata": {},
   "outputs": [
    {
     "data": {
      "text/plain": [
       "175"
      ]
     },
     "execution_count": 6,
     "metadata": {},
     "output_type": "execute_result"
    }
   ],
   "source": [
    "df.groupby(\"case_id\").apply(lambda x : len(x.activity)).max()"
   ]
  },
  {
   "cell_type": "code",
   "execution_count": 7,
   "metadata": {},
   "outputs": [
    {
     "data": {
      "text/plain": [
       "array(['A_SUBMITTED', 'A_PARTLYSUBMITTED', 'A_PREACCEPTED',\n",
       "       'W_Completeren aanvraag', 'A_DECLINED', 'W_Afhandelen leads',\n",
       "       'A_ACCEPTED', 'O_SELECTED', 'A_FINALIZED', 'O_CREATED', 'O_SENT',\n",
       "       'W_Nabellen offertes', 'O_CANCELLED', 'A_CANCELLED',\n",
       "       'W_Beoordelen fraude', 'O_SENT_BACK', 'W_Valideren aanvraag',\n",
       "       'W_Nabellen incomplete dossiers', 'O_ACCEPTED', 'A_APPROVED',\n",
       "       'A_ACTIVATED', 'A_REGISTERED', 'O_DECLINED',\n",
       "       'W_Wijzigen contractgegevens'], dtype=object)"
      ]
     },
     "execution_count": 7,
     "metadata": {},
     "output_type": "execute_result"
    }
   ],
   "source": [
    "df.activity.unique()"
   ]
  }
 ],
 "metadata": {
  "kernelspec": {
   "display_name": ".venv",
   "language": "python",
   "name": "python3"
  },
  "language_info": {
   "codemirror_mode": {
    "name": "ipython",
    "version": 3
   },
   "file_extension": ".py",
   "mimetype": "text/x-python",
   "name": "python",
   "nbconvert_exporter": "python",
   "pygments_lexer": "ipython3",
   "version": "3.10.12"
  }
 },
 "nbformat": 4,
 "nbformat_minor": 2
}
