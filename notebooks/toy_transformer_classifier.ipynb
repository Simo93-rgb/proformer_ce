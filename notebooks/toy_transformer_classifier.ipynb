{
 "cells": [
  {
   "cell_type": "code",
   "id": "524bc9c4",
   "metadata": {},
   "source": [
    "import torch\n",
    "import torch.nn as nn\n",
    "import torch.nn.functional as F\n",
    "import matplotlib.pyplot as plt"
   ],
   "outputs": [],
   "execution_count": null
  },
  {
   "cell_type": "code",
   "id": "2b20df23",
   "metadata": {
    "ExecuteTime": {
     "end_time": "2025-05-19T13:34:54.936305Z",
     "start_time": "2025-05-19T13:34:54.930503Z"
    }
   },
   "source": [
    "class CustomSelfAttention(nn.Module):\n",
    "    def __init__(self, embed_dim, num_heads, dropout=0.0):\n",
    "        super().__init__()\n",
    "        self.multihead_attn = nn.MultiheadAttention(embed_dim, num_heads, dropout=dropout)\n",
    "        self.last_attn_weights = None\n",
    "\n",
    "    def forward(self, x, mask=None, src_key_padding_mask=None):\n",
    "        attn_output, attn_weights = self.multihead_attn(\n",
    "            x, x, x,\n",
    "            attn_mask=mask,\n",
    "            key_padding_mask=src_key_padding_mask,\n",
    "            need_weights=True\n",
    "        )\n",
    "        self.last_attn_weights = attn_weights\n",
    "        return attn_output\n",
    "\n",
    "class ToyTransformerClassifier(nn.Module):\n",
    "    def __init__(self):\n",
    "        super().__init__()\n",
    "        self.embedding = nn.Embedding(vocab_size, embed_dim)\n",
    "\n",
    "        # Usa la nostra implementazione personalizzata di self-attention\n",
    "        self.self_attn = CustomSelfAttention(embed_dim, num_heads)\n",
    "\n",
    "        # Crea un feedforward layer simile a quello nel TransformerEncoderLayer\n",
    "        self.linear1 = nn.Linear(embed_dim, embed_dim * 4)\n",
    "        self.linear2 = nn.Linear(embed_dim * 4, embed_dim)\n",
    "        self.norm1 = nn.LayerNorm(embed_dim)\n",
    "        self.norm2 = nn.LayerNorm(embed_dim)\n",
    "        self.dropout = nn.Dropout(0.1)\n",
    "        self.classifier = nn.Linear(embed_dim, 1)\n",
    "\n",
    "    def forward(self, x):\n",
    "        x = self.embedding(x)  # [batch, seq_len, embed_dim]\n",
    "        x = x.permute(1, 0, 2)  # [seq_len, batch, embed_dim]\n",
    "\n",
    "        # Implementa manualmente un TransformerEncoderLayer\n",
    "        # Self attention block\n",
    "        residual = x\n",
    "        x = self.self_attn(x)\n",
    "        x = x + residual\n",
    "        x = self.norm1(x)\n",
    "\n",
    "        # Feedforward block\n",
    "        residual = x\n",
    "        x = F.relu(self.linear1(x))\n",
    "        x = self.dropout(x)\n",
    "        x = self.linear2(x)\n",
    "        x = x + residual\n",
    "        x = self.norm2(x)\n",
    "\n",
    "        # Pooling e classificazione\n",
    "        x = x.mean(dim=0)\n",
    "        logits = self.classifier(x)\n",
    "        return torch.sigmoid(logits)\n",
    "\n",
    "    @property\n",
    "    def attention_maps(self):\n",
    "        return self.self_attn.last_attn_weights"
   ],
   "outputs": [],
   "execution_count": 13
  },
  {
   "metadata": {},
   "cell_type": "markdown",
   "source": "Definiamo una funzione di plotting per la mappa di attenzione",
   "id": "f32a9044e5c2b428"
  },
  {
   "cell_type": "code",
   "id": "feceefa4",
   "metadata": {
    "ExecuteTime": {
     "end_time": "2025-05-19T14:01:48.231912Z",
     "start_time": "2025-05-19T14:01:48.228470Z"
    }
   },
   "source": [
    "def plot_attention(attn, title=\"Attention Map\"):\n",
    "    # Detach per rimuovere il calcolo del gradiente prima della conversione a NumPy\n",
    "    attn = attn.detach()\n",
    "\n",
    "    num_heads = attn.shape[0]\n",
    "    for h in range(num_heads):\n",
    "        plt.imshow(attn[h].cpu(), cmap='viridis')\n",
    "        plt.title(f\"{title} - Head {h}\")\n",
    "        plt.xlabel(\"Key (input token idx)\")\n",
    "        plt.ylabel(\"Query (input token idx)\")\n",
    "        plt.colorbar()\n",
    "        plt.show()"
   ],
   "outputs": [],
   "execution_count": 24
  },
  {
   "cell_type": "markdown",
   "id": "37c52746",
   "metadata": {},
   "source": "# Estrazione mappe"
  },
  {
   "cell_type": "code",
   "id": "89ac08ea",
   "metadata": {
    "ExecuteTime": {
     "end_time": "2025-05-19T13:45:08.344523Z",
     "start_time": "2025-05-19T13:45:08.336429Z"
    }
   },
   "source": [
    "# Input finto: batch di 2 sequenze\n",
    "input_ids = torch.tensor([[1, 2, 3, 4, 0], [5, 6, 7, 8, 9]])\n",
    "batch_size = input_ids.shape[0]  # 2\n",
    "seq_len = input_ids.shape[1]     # 5\n",
    "model = ToyTransformerClassifier()\n",
    "output = model(input_ids)\n",
    "\n",
    "# Verifica la dimensione effettiva del tensore di attenzione\n",
    "attention_size = model.attention_maps.numel()\n",
    "print(f\"Dimensione effettiva delle attention maps: {attention_size}\")\n",
    "print(\"Prediction (sigmoid output):\", output)\n",
    "print(\"Shape delle attention maps:\", model.attention_maps.shape)  # [batch*num_heads, tgt_len, src_len]\n",
    "\n",
    "# Calcola il numero di teste dall'attention_size\n",
    "calculated_num_heads = attention_size // (batch_size * seq_len * seq_len)\n",
    "print(f\"Numero di teste calcolato: {calculated_num_heads}\")\n",
    "\n",
    "# Esegui il reshape corretto\n",
    "attn_maps = model.attention_maps.view(batch_size, calculated_num_heads, seq_len, seq_len)\n",
    "\n"
   ],
   "outputs": [
    {
     "name": "stdout",
     "output_type": "stream",
     "text": [
      "Dimensione effettiva delle attention maps: 50\n",
      "Prediction (sigmoid output): tensor([[0.4772],\n",
      "        [0.4495]], grad_fn=<SigmoidBackward0>)\n",
      "Shape delle attention maps: torch.Size([2, 5, 5])\n",
      "Numero di teste calcolato: 1\n"
     ]
    }
   ],
   "execution_count": 21
  },
  {
   "metadata": {},
   "cell_type": "markdown",
   "source": "Plotting della mappa di attenzione",
   "id": "1b22a72cfe2c40bf"
  },
  {
   "metadata": {
    "ExecuteTime": {
     "end_time": "2025-05-19T14:02:09.496485Z",
     "start_time": "2025-05-19T14:02:09.399Z"
    }
   },
   "cell_type": "code",
   "source": [
    "# Visualizza per il primo esempio nel batch\n",
    "plot_attention(attn_maps[0], title=\"Esempio 0\")"
   ],
   "id": "8367a0163642bb34",
   "outputs": [
    {
     "data": {
      "text/plain": [
       "<Figure size 640x480 with 2 Axes>"
      ],
      "image/png": "[encoded data removed]"
     },
     "metadata": {},
     "output_type": "display_data"
    }
   ],
   "execution_count": 25
  },
  {
   "metadata": {},
   "cell_type": "markdown",
   "source": [
    "## 🧠 Cos’è una mappa di attenzione?\n",
    "\n",
    "Quella che vedi è una matrice di attenzione per un singolo head di un transformer encoder. È una matrice quadrata perché ogni token può \"guardare\" (attendere) tutti gli altri, incluso sé stesso.\n",
    "\n",
    "Assi:\n",
    "- Y (riga) → il token Query, cioè quello che sta \"attendendo\".\n",
    "\n",
    "- X (colonna) → il token Key, cioè quello a cui il token sta prestando attenzione."
   ],
   "id": "bee13e34dbfb08ca"
  },
  {
   "metadata": {},
   "cell_type": "markdown",
   "source": [
    "## 🔍 Interpretazione pratica\n",
    "\n",
    "Prendiamo l’esempio concreto che hai visualizzato:\n",
    "\n",
    "- La dimensione è 5×5 → quindi ci sono 5 token in input (inclusi padding, se presenti).\n",
    "\n",
    "- Il colore indica il peso di attenzione: più è chiaro/verde, più alta è l’attenzione che un token (sulla riga) dedica a un altro token (sulla colonna).\n",
    "\n",
    "- Ad esempio, il colore molto chiaro in [2,4] significa che il token 2 \"attende\" molto il token 4.\n",
    "\n",
    "- Il colore rosa pallido in [2,2] indica che il token 2 presta poca attenzione a sé stesso.\n"
   ],
   "id": "322fcaa33ab3ac65"
  },
  {
   "metadata": {},
   "cell_type": "markdown",
   "source": [
    "## 💡 Esempio interpretativo\n",
    "\n",
    "Immaginiamo che i token siano l'embedding della frase `I love deep learning models`, con `ID[1,2,3,4,0]` dove lo zero è di padding. La mappa potrebbe indicare:\n",
    "1. Il token \"deep\" (idx 2) guarda molto \"models\" (idx 4),\n",
    "\n",
    "2. \"love\" (idx 1) guarda soprattutto \"deep\" (idx 2),\n",
    "\n",
    "3. \"I\" (idx 0) ha un’attenzione distribuita su tutti."
   ],
   "id": "f1451c37fb3ba410"
  }
 ],
 "metadata": {
  "kernelspec": {
   "display_name": ".venv",
   "language": "python",
   "name": "python3"
  },
  "language_info": {
   "codemirror_mode": {
    "name": "ipython",
    "version": 3
   },
   "file_extension": ".py",
   "mimetype": "text/x-python",
   "name": "python",
   "nbconvert_exporter": "python",
   "pygments_lexer": "ipython3",
   "version": "3.12.3"
  }
 },
 "nbformat": 4,
 "nbformat_minor": 5
}
